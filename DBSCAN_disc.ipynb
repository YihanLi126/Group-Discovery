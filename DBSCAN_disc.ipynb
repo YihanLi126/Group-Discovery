{
 "cells": [
  {
   "cell_type": "code",
   "execution_count": 1,
   "metadata": {},
   "outputs": [],
   "source": [
    "from sklearn.datasets import make_blobs\n",
    "from sklearn.cluster import DBSCAN\n",
    "import numpy as np\n",
    "import matplotlib.pyplot as plt\n",
    "import pandas as pd"
   ]
  },
  {
   "cell_type": "code",
   "execution_count": 19,
   "metadata": {},
   "outputs": [],
   "source": [
    "# list_image = []\n",
    "# for i in range(ani_stamps):\n",
    "#     ...\n",
    "#     img_buf = io.BytesIO()\n",
    "#     plt.savefig(img_buf, format=\"png\")\n",
    "#     image = PIL.Image.open(img_buf)\n",
    "#     list_image.append(image)\n",
    "#     plt.close()\n",
    "# # save animation\n",
    "# list_image[0].save(\n",
    "#     \"media/animation/\" + filename + \".gif\",\n",
    "#     format=\"GIF\",\n",
    "#     append_images=list_image[1:],\n",
    "#     save_all=True,\n",
    "#     duration=0.1,\n",
    "#     loop=0,\n",
    "# )"
   ]
  },
  {
   "cell_type": "code",
   "execution_count": 23,
   "metadata": {},
   "outputs": [],
   "source": [
    "h = open('TrajectoryData_students003/students003.txt', 'r')\n",
    "f = open('TrajectoryData_students003/processed_student003.txt','w')\n",
    "f.write('timestep ID X Y')\n",
    "f.write('\\n')\n",
    "content = h.readlines()\n",
    "for line in content:\n",
    "    for element in line.split():\n",
    "        f.write(element)\n",
    "        f.write(' ')\n",
    "    f.write('\\n')"
   ]
  },
  {
   "cell_type": "code",
   "execution_count": 33,
   "metadata": {},
   "outputs": [
    {
     "data": {
      "text/html": [
       "<div>\n",
       "<style scoped>\n",
       "    .dataframe tbody tr th:only-of-type {\n",
       "        vertical-align: middle;\n",
       "    }\n",
       "\n",
       "    .dataframe tbody tr th {\n",
       "        vertical-align: top;\n",
       "    }\n",
       "\n",
       "    .dataframe thead th {\n",
       "        text-align: right;\n",
       "    }\n",
       "</style>\n",
       "<table border=\"1\" class=\"dataframe\">\n",
       "  <thead>\n",
       "    <tr style=\"text-align: right;\">\n",
       "      <th></th>\n",
       "      <th>timestep</th>\n",
       "      <th>ID</th>\n",
       "      <th>X</th>\n",
       "      <th>Y</th>\n",
       "    </tr>\n",
       "  </thead>\n",
       "  <tbody>\n",
       "    <tr>\n",
       "      <th>0</th>\n",
       "      <td>0.0</td>\n",
       "      <td>1.0</td>\n",
       "      <td>9.050000</td>\n",
       "      <td>6.038093</td>\n",
       "    </tr>\n",
       "    <tr>\n",
       "      <th>1</th>\n",
       "      <td>0.0</td>\n",
       "      <td>2.0</td>\n",
       "      <td>11.344069</td>\n",
       "      <td>7.398454</td>\n",
       "    </tr>\n",
       "    <tr>\n",
       "      <th>2</th>\n",
       "      <td>0.0</td>\n",
       "      <td>3.0</td>\n",
       "      <td>6.082442</td>\n",
       "      <td>3.603763</td>\n",
       "    </tr>\n",
       "    <tr>\n",
       "      <th>3</th>\n",
       "      <td>0.0</td>\n",
       "      <td>4.0</td>\n",
       "      <td>2.273023</td>\n",
       "      <td>6.205155</td>\n",
       "    </tr>\n",
       "    <tr>\n",
       "      <th>4</th>\n",
       "      <td>0.0</td>\n",
       "      <td>5.0</td>\n",
       "      <td>13.680232</td>\n",
       "      <td>6.539279</td>\n",
       "    </tr>\n",
       "    <tr>\n",
       "      <th>...</th>\n",
       "      <td>...</td>\n",
       "      <td>...</td>\n",
       "      <td>...</td>\n",
       "      <td>...</td>\n",
       "    </tr>\n",
       "    <tr>\n",
       "      <th>17839</th>\n",
       "      <td>5350.0</td>\n",
       "      <td>299.0</td>\n",
       "      <td>14.368663</td>\n",
       "      <td>5.450513</td>\n",
       "    </tr>\n",
       "    <tr>\n",
       "      <th>17840</th>\n",
       "      <td>5350.0</td>\n",
       "      <td>338.0</td>\n",
       "      <td>3.697241</td>\n",
       "      <td>11.511278</td>\n",
       "    </tr>\n",
       "    <tr>\n",
       "      <th>17841</th>\n",
       "      <td>5350.0</td>\n",
       "      <td>339.0</td>\n",
       "      <td>3.754487</td>\n",
       "      <td>12.187163</td>\n",
       "    </tr>\n",
       "    <tr>\n",
       "      <th>17842</th>\n",
       "      <td>5350.0</td>\n",
       "      <td>375.0</td>\n",
       "      <td>11.913167</td>\n",
       "      <td>11.273096</td>\n",
       "    </tr>\n",
       "    <tr>\n",
       "      <th>17843</th>\n",
       "      <td>5350.0</td>\n",
       "      <td>404.0</td>\n",
       "      <td>11.272090</td>\n",
       "      <td>12.968058</td>\n",
       "    </tr>\n",
       "  </tbody>\n",
       "</table>\n",
       "<p>17844 rows × 4 columns</p>\n",
       "</div>"
      ],
      "text/plain": [
       "       timestep     ID          X          Y\n",
       "0           0.0    1.0   9.050000   6.038093\n",
       "1           0.0    2.0  11.344069   7.398454\n",
       "2           0.0    3.0   6.082442   3.603763\n",
       "3           0.0    4.0   2.273023   6.205155\n",
       "4           0.0    5.0  13.680232   6.539279\n",
       "...         ...    ...        ...        ...\n",
       "17839    5350.0  299.0  14.368663   5.450513\n",
       "17840    5350.0  338.0   3.697241  11.511278\n",
       "17841    5350.0  339.0   3.754487  12.187163\n",
       "17842    5350.0  375.0  11.913167  11.273096\n",
       "17843    5350.0  404.0  11.272090  12.968058\n",
       "\n",
       "[17844 rows x 4 columns]"
      ]
     },
     "execution_count": 33,
     "metadata": {},
     "output_type": "execute_result"
    }
   ],
   "source": [
    "df = pd.read_csv(\"TrajectoryData_students003/processed_student003.txt\", delimiter=\" \",index_col=False)\n",
    "df"
   ]
  },
  {
   "cell_type": "code",
   "execution_count": 35,
   "metadata": {},
   "outputs": [
    {
     "name": "stdout",
     "output_type": "stream",
     "text": [
      "1.0\n"
     ]
    }
   ],
   "source": []
  }
 ],
 "metadata": {
  "kernelspec": {
   "display_name": "myEnv",
   "language": "python",
   "name": "python3"
  },
  "language_info": {
   "codemirror_mode": {
    "name": "ipython",
    "version": 3
   },
   "file_extension": ".py",
   "mimetype": "text/x-python",
   "name": "python",
   "nbconvert_exporter": "python",
   "pygments_lexer": "ipython3",
   "version": "3.6.2"
  },
  "orig_nbformat": 4,
  "vscode": {
   "interpreter": {
    "hash": "c1de6da87d64de62af7fe5089c9349388835a32609fb6cd2bb2bb0bb7e8036ec"
   }
  }
 },
 "nbformat": 4,
 "nbformat_minor": 2
}
